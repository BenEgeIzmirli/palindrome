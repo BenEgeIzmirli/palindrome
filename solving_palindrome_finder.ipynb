{
 "cells": [
  {
   "cell_type": "code",
   "execution_count": 100,
   "metadata": {
    "collapsed": false
   },
   "outputs": [],
   "source": [
    "import string\n",
    "import random\n",
    "import time\n",
    "\n",
    "def generate_palindromey_text(length,palindromeyness=0.1):\n",
    "    pal_chars = 0\n",
    "    stk = []\n",
    "    out = \"\"\n",
    "    while len(out) < length:\n",
    "        if pal_chars<0:\n",
    "            if len(stk) > 0:\n",
    "                this_ltr = stk.pop()\n",
    "                out += this_ltr\n",
    "                continue\n",
    "            else:\n",
    "                pal_chars = 0\n",
    "        else:\n",
    "            coin_toss = random.random() < palindromeyness\n",
    "            if not coin_toss:\n",
    "                this_ltr = random.choice(string.lower(string.letters))\n",
    "                if pal_chars > 0:\n",
    "                    pal_chars = -1\n",
    "                    coin_toss_2 = random.random() < 0.5\n",
    "                    if coin_toss_2:\n",
    "                        out += this_ltr\n",
    "                    continue\n",
    "                out += this_ltr\n",
    "            else:\n",
    "                if pal_chars > 0:\n",
    "                    ############################################\n",
    "                    pass\n",
    "                \n",
    "            \n",
    "            if pal_chars >= 0:\n",
    "                this_ltr = random.choice(string.lower(string.letters))\n",
    "                out += this_ltr\n",
    "                stk.append(this_ltr)\n",
    "                pal_chars += 1\n",
    "            elif pal_chars<0:\n",
    "                if len(stk) > 0:\n",
    "                    this_ltr = stk.pop()\n",
    "                    out += this_ltr\n",
    "                else:\n",
    "                    pal_chars = 0\n",
    "            \n",
    "        i += random.choice(string.lower(string.letters))\n",
    "        \n",
    "\n",
    "def find_biggest_palindromes(pal):\n",
    "    # the return array\n",
    "    ret = []\n",
    "    # an alternate index that will be incremented backwards along the string\n",
    "    rev_index = -1  # -1 means not tracking a palindrome\n",
    "    \n",
    "    # there can't be any palindromes in a string smaller than three characters.\n",
    "    if len(pal)<2:\n",
    "        return []\n",
    "    \n",
    "    # a palindrome will be detected if the index is at the center of the palindrome.\n",
    "    # since palindromes can't be shorter than three letters, there's no point starting\n",
    "    # with i<2.\n",
    "    i=2\n",
    "    while i<len(pal):\n",
    "        if rev_index is -1:          # If I'm not currently tracking a palindrome:\n",
    "            if pal[i] == pal[i-1]:   #     if the previous character is the same as me:\n",
    "                rev_index = i-1      #         set the reverse_index; i'm now tracking a palindrome.\n",
    "            elif pal[i] == pal[i-2]:\n",
    "                rev_index = i-2\n",
    "            i += 1\n",
    "        elif pal[i] == pal[rev_index-1]:    # go through the palindrome in the reverse direction,\n",
    "            if rev_index == 0:              # continuing until the characters are no longer the same.\n",
    "                ret.append( (0,i) )\n",
    "                rev_index = -1\n",
    "                continue\n",
    "            if i == len(pal)-1:\n",
    "                ret.append( (rev_index-1,len(pal)-1) )\n",
    "                break\n",
    "            rev_index -= 1\n",
    "            i += 1\n",
    "            continue\n",
    "        else:\n",
    "                                            # if tracking a palindrome and the current letter doesn't\n",
    "            ret.append( (rev_index,i) )     # correspond to the letter on the other side of the palindrome,\n",
    "            rev_index = -1                  # append the palindrome to the ret array and set rev_index to\n",
    "                                            # the \"not tracking a palindrome\" state.\n",
    "    \n",
    "    if len(ret)==0:\n",
    "        return []\n",
    "    \n",
    "    # determines whether two tuples intersect in their ranges\n",
    "    # ex: (3,7) and (2,5) intersect, but (1,4) and (6,9) do not.\n",
    "    def intersects(tup1,tup2):\n",
    "        def between(value,tup):\n",
    "            if value > tup[0] and value < tup[1]:\n",
    "                return True\n",
    "            if value < tup[0] and value > tup[1]:\n",
    "                return True\n",
    "            return False\n",
    "        start1, stop1 = tup1\n",
    "        start2, stop2 = tup2\n",
    "        if between(start1,tup2) or between(stop1,tup2):\n",
    "            return True\n",
    "        if between(start2,tup1) or between(stop2,tup1):\n",
    "            return True\n",
    "        return False\n",
    "    \n",
    "    def pal_size(tup):\n",
    "        dif = tup[1] - tup[0]\n",
    "        if dif < 0:\n",
    "            return -dif\n",
    "        return dif\n",
    "    \n",
    "    # check if any of the palindromes intersect, and choose the bigger one.\n",
    "    i=1\n",
    "    while i<len(ret):\n",
    "        if intersects(ret[i-1],ret[i]) and pal_size(ret[i]) > pal_size(ret[i-1]):\n",
    "            del ret[i-1]\n",
    "        else:\n",
    "            i += 1\n",
    "    \n",
    "    return ret"
   ]
  },
  {
   "cell_type": "code",
   "execution_count": 98,
   "metadata": {
    "collapsed": false
   },
   "outputs": [
    {
     "data": {
      "text/plain": [
       "[(0, 8), (12, 25)]"
      ]
     },
     "execution_count": 98,
     "metadata": {},
     "output_type": "execute_result"
    }
   ],
   "source": [
    "find_biggest_palindromes(pal)"
   ]
  },
  {
   "cell_type": "code",
   "execution_count": 109,
   "metadata": {
    "collapsed": false
   },
   "outputs": [],
   "source": [
    "p = \"1234567887654321\"\n",
    "\n",
    "times = []\n",
    "for i in range(1000):\n",
    "    this_pal = p*i\n",
    "    start = time.clock()\n",
    "    find_biggest_palindromes(this_pal)\n",
    "    times.append(time.clock()-start)"
   ]
  },
  {
   "cell_type": "code",
   "execution_count": null,
   "metadata": {
    "collapsed": false
   },
   "outputs": [],
   "source": [
    "import matplotlib.pyplot as plt\n",
    "\n",
    "plt.xlabel(\"length of text searched / 16\")\n",
    "plt.ylabel(\"time taken to find all palindromes\")\n",
    "plt.plot(times)\n",
    "plt.show()"
   ]
  },
  {
   "cell_type": "code",
   "execution_count": null,
   "metadata": {
    "collapsed": true
   },
   "outputs": [],
   "source": []
  }
 ],
 "metadata": {
  "kernelspec": {
   "display_name": "Python 2",
   "language": "python",
   "name": "python2"
  },
  "language_info": {
   "codemirror_mode": {
    "name": "ipython",
    "version": 2
   },
   "file_extension": ".py",
   "mimetype": "text/x-python",
   "name": "python",
   "nbconvert_exporter": "python",
   "pygments_lexer": "ipython2",
   "version": "2.7.11"
  }
 },
 "nbformat": 4,
 "nbformat_minor": 0
}
